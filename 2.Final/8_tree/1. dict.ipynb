{
 "cells": [
  {
   "cell_type": "markdown",
   "id": "72aa1561",
   "metadata": {},
   "source": [
    "## python dictionary"
   ]
  },
  {
   "cell_type": "code",
   "execution_count": 35,
   "id": "172df1d8",
   "metadata": {},
   "outputs": [],
   "source": [
    "### dict 는 중괄호\n",
    "a = {}"
   ]
  },
  {
   "cell_type": "markdown",
   "id": "f63f11b0",
   "metadata": {},
   "source": [
    "#### dict 생성"
   ]
  },
  {
   "cell_type": "code",
   "execution_count": 36,
   "id": "5daa9de3",
   "metadata": {},
   "outputs": [
    {
     "name": "stdout",
     "output_type": "stream",
     "text": [
      "{1: 'mustang', 2: 'genesis', 'brand': 'Ford'}\n",
      "<class 'dict'>\n"
     ]
    }
   ],
   "source": [
    "### dict 만드는 법 (1) 중괄호\n",
    "a = { 1 : 'mustang', 2:'genesis','brand':'Ford'}\n",
    "print(a)\n",
    "print(type(a))"
   ]
  },
  {
   "cell_type": "code",
   "execution_count": 37,
   "id": "c174b8fa",
   "metadata": {},
   "outputs": [
    {
     "name": "stdout",
     "output_type": "stream",
     "text": [
      "{'brand': 'Ford', 'model': 'taurus'}\n",
      "<class 'dict'>\n"
     ]
    }
   ],
   "source": [
    "### dict 만드는 법 (2) dict 함수 이용 \n",
    "a = dict([('brand','Ford'),('model','taurus')])\n",
    "print(a)\n",
    "print(type(a))"
   ]
  },
  {
   "cell_type": "markdown",
   "id": "bf5eb11c",
   "metadata": {},
   "source": [
    "#### dict read"
   ]
  },
  {
   "cell_type": "code",
   "execution_count": 38,
   "id": "578bb598",
   "metadata": {},
   "outputs": [
    {
     "ename": "KeyError",
     "evalue": "'address'",
     "output_type": "error",
     "traceback": [
      "\u001b[31m---------------------------------------------------------------------------\u001b[39m",
      "\u001b[31mKeyError\u001b[39m                                  Traceback (most recent call last)",
      "\u001b[36mCell\u001b[39m\u001b[36m \u001b[39m\u001b[32mIn[38]\u001b[39m\u001b[32m, line 5\u001b[39m\n\u001b[32m      3\u001b[39m \u001b[38;5;66;03m### dict read (1) 참조 \u001b[39;00m\n\u001b[32m      4\u001b[39m a[\u001b[33m'\u001b[39m\u001b[33mname\u001b[39m\u001b[33m'\u001b[39m]\n\u001b[32m----> \u001b[39m\u001b[32m5\u001b[39m \u001b[43ma\u001b[49m\u001b[43m[\u001b[49m\u001b[33;43m'\u001b[39;49m\u001b[33;43maddress\u001b[39;49m\u001b[33;43m'\u001b[39;49m\u001b[43m]\u001b[49m \u001b[38;5;66;03m# key를 가진 value가 없을때 ! 에러 발생\u001b[39;00m\n",
      "\u001b[31mKeyError\u001b[39m: 'address'"
     ]
    }
   ],
   "source": [
    "\n",
    "a = {'name':'Jack', 'age':26}\n",
    "\n",
    "### dict read (1) 참조 \n",
    "a['name']\n",
    "a['address'] # key를 가진 value가 없을때 ! 에러 발생\n",
    "\n"
   ]
  },
  {
   "cell_type": "code",
   "execution_count": 39,
   "id": "39466329",
   "metadata": {},
   "outputs": [],
   "source": [
    "### dict read (2)  get 함수 이용 \n",
    "a.get('name')\n",
    "a.get('address') # key를 가진 value가 없을때도 오류 발생 x"
   ]
  },
  {
   "cell_type": "markdown",
   "id": "adf3139a",
   "metadata": {},
   "source": [
    "#### value 변경 및 새로운 item 추가"
   ]
  },
  {
   "cell_type": "code",
   "execution_count": 40,
   "id": "18b04639",
   "metadata": {},
   "outputs": [
    {
     "name": "stdout",
     "output_type": "stream",
     "text": [
      "26\n",
      "27\n",
      "250528\n"
     ]
    }
   ],
   "source": [
    "print(a['age'])\n",
    "a['age'] = 27\n",
    "print(a['age'])\n",
    "a['new']='250528'\n",
    "print(a['new'])"
   ]
  },
  {
   "cell_type": "code",
   "execution_count": 42,
   "id": "5016347c",
   "metadata": {},
   "outputs": [
    {
     "name": "stdout",
     "output_type": "stream",
     "text": [
      "{'name': 'Jack', 'age': 27, 'new': '250528'}\n",
      "{'age': 27, 'new': '250528'}\n"
     ]
    }
   ],
   "source": [
    "print(a)\n",
    "a.pop('name')\n",
    "print(a)"
   ]
  },
  {
   "cell_type": "code",
   "execution_count": 44,
   "id": "9afd7341",
   "metadata": {},
   "outputs": [
    {
     "name": "stdout",
     "output_type": "stream",
     "text": [
      "{}\n"
     ]
    }
   ],
   "source": [
    "a.clear()\n",
    "print(a)"
   ]
  },
  {
   "cell_type": "code",
   "execution_count": null,
   "id": "529ba601",
   "metadata": {},
   "outputs": [],
   "source": []
  }
 ],
 "metadata": {
  "kernelspec": {
   "display_name": "narae",
   "language": "python",
   "name": "python3"
  },
  "language_info": {
   "codemirror_mode": {
    "name": "ipython",
    "version": 3
   },
   "file_extension": ".py",
   "mimetype": "text/x-python",
   "name": "python",
   "nbconvert_exporter": "python",
   "pygments_lexer": "ipython3",
   "version": "3.13.2"
  }
 },
 "nbformat": 4,
 "nbformat_minor": 5
}
